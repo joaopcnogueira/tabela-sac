{
 "cells": [
  {
   "attachments": {},
   "cell_type": "markdown",
   "metadata": {},
   "source": [
    "# core\n",
    "\n",
    "> Code documentation"
   ]
  },
  {
   "cell_type": "code",
   "execution_count": null,
   "metadata": {},
   "outputs": [],
   "source": [
    "#| default_exp core"
   ]
  },
  {
   "cell_type": "code",
   "execution_count": null,
   "metadata": {},
   "outputs": [],
   "source": [
    "#| hide\n",
    "from nbdev.showdoc import *"
   ]
  },
  {
   "cell_type": "code",
   "execution_count": null,
   "metadata": {},
   "outputs": [],
   "source": [
    "#| export\n",
    "import numpy as np\n",
    "import pandas as pd\n",
    "\n",
    "class SACCalculator:\n",
    "    \"A simple calculator class\"\n",
    "    def __init__(self, \n",
    "                 valor_financiado: float,     # Valor financiado\n",
    "                 prazo: int,                  # Prazo em meses \n",
    "                 taxa_anual: float            # Taxa de juros anual\n",
    "    ):\n",
    "        self.valor_financiado = valor_financiado\n",
    "        self.prazo = prazo\n",
    "        self.taxa_juros = (1 + taxa_anual/100)**(1/12) - 1\n",
    "        self.amortizacao = self.valor_financiado / self.prazo\n",
    "\n",
    "    def tabela(self):\n",
    "        \"\"\"\n",
    "        Gera a tabela SAC\n",
    "        \"\"\"\n",
    "        parcelas = np.array([p for p in range(1, self.prazo+1)])\n",
    "        juros = np.array([self.taxa_juros * (self.valor_financiado - p * self.amortizacao) for p in range(self.prazo)])\n",
    "        amortizacao = np.array([self.amortizacao for p in range(1, self.prazo+1)])\n",
    "        valor_da_parcela = juros + amortizacao\n",
    "        saldo_devedor = np.array([self.valor_financiado - p * self.amortizacao for p in range(1, self.prazo+1)])\n",
    "        \n",
    "        return (\n",
    "            pd.DataFrame({\n",
    "                'Parcela': parcelas,\n",
    "                'Amortização': amortizacao,\n",
    "                'Juros': juros,\n",
    "                'Valor da Parcela': valor_da_parcela,\n",
    "                'Saldo Devedor': saldo_devedor\n",
    "            }).round(decimals=2)   \n",
    "        )\n",
    "    \n",
    "    def amortizacao_extra_mensal(self, valor_amortizado_extra_mensal: float):\n",
    "        \n",
    "        amortizacao = self.valor_financiado / self.prazo\n",
    "        taxa_mensal = self.taxa_juros\n",
    "        \n",
    "        # Listas para armazenar os dados da tabela\n",
    "        meses_extra = []\n",
    "        saldos_devedores_extra = []\n",
    "        amortizacoes_extra = []\n",
    "        juros_extra = []\n",
    "        prestacoes_extra = []\n",
    "        amortizacoes_extras = []\n",
    "\n",
    "        # Saldo devedor inicial é o valor financiado\n",
    "        saldo_devedor = self.valor_financiado\n",
    "\n",
    "        # Cálculo da tabela SAC com amortização extra\n",
    "        mes = 0\n",
    "        while saldo_devedor >= 0:\n",
    "            mes += 1\n",
    "            meses_extra.append(mes)\n",
    "            saldos_devedores_extra.append(saldo_devedor)\n",
    "            amortizacoes_extra.append(amortizacao)\n",
    "            juro = saldo_devedor * taxa_mensal\n",
    "            juros_extra.append(juro)\n",
    "            prestacao = amortizacao + juro\n",
    "            prestacoes_extra.append(prestacao)\n",
    "            \n",
    "            # Abate a amortização extra do saldo devedor\n",
    "            saldo_devedor -= (amortizacao + min(valor_amortizado_extra_mensal, saldo_devedor))\n",
    "            amortizacoes_extras.append(min(valor_amortizado_extra_mensal, saldo_devedor))\n",
    "\n",
    "        # Criação da tabela SAC com amortização extra\n",
    "        tabela_sac_extra = pd.DataFrame({\n",
    "            'Parcela': meses_extra,\n",
    "            'Saldo Devedor Inicial': saldos_devedores_extra,\n",
    "            'Amortização': amortizacoes_extra,\n",
    "            'Amortização Extra': amortizacoes_extras,\n",
    "            'Juros': juros_extra,\n",
    "            'Valor da Parcela': prestacoes_extra,\n",
    "            'Saldo Devedor Final': np.roll(saldos_devedores_extra, -1)\n",
    "        })\n",
    "\n",
    "        # Exclusão da última linha, que contém dados incorretos devido ao deslocamento\n",
    "        tabela_sac_amortizada = tabela_sac_extra[:-1]\n",
    "\n",
    "        return tabela_sac_amortizada"
   ]
  },
  {
   "cell_type": "code",
   "execution_count": null,
   "metadata": {},
   "outputs": [],
   "source": [
    "sac = SACCalculator(205385.45, 420, 9.99)"
   ]
  },
  {
   "cell_type": "code",
   "execution_count": null,
   "metadata": {},
   "outputs": [
    {
     "data": {
      "text/html": [
       "<div>\n",
       "<style scoped>\n",
       "    .dataframe tbody tr th:only-of-type {\n",
       "        vertical-align: middle;\n",
       "    }\n",
       "\n",
       "    .dataframe tbody tr th {\n",
       "        vertical-align: top;\n",
       "    }\n",
       "\n",
       "    .dataframe thead th {\n",
       "        text-align: right;\n",
       "    }\n",
       "</style>\n",
       "<table border=\"1\" class=\"dataframe\">\n",
       "  <thead>\n",
       "    <tr style=\"text-align: right;\">\n",
       "      <th></th>\n",
       "      <th>Parcela</th>\n",
       "      <th>Amortização</th>\n",
       "      <th>Juros</th>\n",
       "      <th>Valor da Parcela</th>\n",
       "      <th>Saldo Devedor</th>\n",
       "    </tr>\n",
       "  </thead>\n",
       "  <tbody>\n",
       "    <tr>\n",
       "      <th>0</th>\n",
       "      <td>1</td>\n",
       "      <td>489.01</td>\n",
       "      <td>1636.20</td>\n",
       "      <td>2125.22</td>\n",
       "      <td>204896.44</td>\n",
       "    </tr>\n",
       "    <tr>\n",
       "      <th>1</th>\n",
       "      <td>2</td>\n",
       "      <td>489.01</td>\n",
       "      <td>1632.31</td>\n",
       "      <td>2121.32</td>\n",
       "      <td>204407.42</td>\n",
       "    </tr>\n",
       "    <tr>\n",
       "      <th>2</th>\n",
       "      <td>3</td>\n",
       "      <td>489.01</td>\n",
       "      <td>1628.41</td>\n",
       "      <td>2117.43</td>\n",
       "      <td>203918.41</td>\n",
       "    </tr>\n",
       "    <tr>\n",
       "      <th>3</th>\n",
       "      <td>4</td>\n",
       "      <td>489.01</td>\n",
       "      <td>1624.52</td>\n",
       "      <td>2113.53</td>\n",
       "      <td>203429.40</td>\n",
       "    </tr>\n",
       "    <tr>\n",
       "      <th>4</th>\n",
       "      <td>5</td>\n",
       "      <td>489.01</td>\n",
       "      <td>1620.62</td>\n",
       "      <td>2109.63</td>\n",
       "      <td>202940.39</td>\n",
       "    </tr>\n",
       "  </tbody>\n",
       "</table>\n",
       "</div>"
      ],
      "text/plain": [
       "   Parcela  Amortização    Juros  Valor da Parcela  Saldo Devedor\n",
       "0        1       489.01  1636.20           2125.22      204896.44\n",
       "1        2       489.01  1632.31           2121.32      204407.42\n",
       "2        3       489.01  1628.41           2117.43      203918.41\n",
       "3        4       489.01  1624.52           2113.53      203429.40\n",
       "4        5       489.01  1620.62           2109.63      202940.39"
      ]
     },
     "execution_count": null,
     "metadata": {},
     "output_type": "execute_result"
    }
   ],
   "source": [
    "tabela = sac.tabela()\n",
    "tabela.head()"
   ]
  },
  {
   "cell_type": "code",
   "execution_count": null,
   "metadata": {},
   "outputs": [
    {
     "data": {
      "text/html": [
       "<div>\n",
       "<style scoped>\n",
       "    .dataframe tbody tr th:only-of-type {\n",
       "        vertical-align: middle;\n",
       "    }\n",
       "\n",
       "    .dataframe tbody tr th {\n",
       "        vertical-align: top;\n",
       "    }\n",
       "\n",
       "    .dataframe thead th {\n",
       "        text-align: right;\n",
       "    }\n",
       "</style>\n",
       "<table border=\"1\" class=\"dataframe\">\n",
       "  <thead>\n",
       "    <tr style=\"text-align: right;\">\n",
       "      <th></th>\n",
       "      <th>Parcela</th>\n",
       "      <th>Saldo Devedor Inicial</th>\n",
       "      <th>Amortização</th>\n",
       "      <th>Amortização Extra</th>\n",
       "      <th>Juros</th>\n",
       "      <th>Valor da Parcela</th>\n",
       "      <th>Saldo Devedor Final</th>\n",
       "    </tr>\n",
       "  </thead>\n",
       "  <tbody>\n",
       "    <tr>\n",
       "      <th>0</th>\n",
       "      <td>1</td>\n",
       "      <td>205385.450000</td>\n",
       "      <td>489.012976</td>\n",
       "      <td>5000.0</td>\n",
       "      <td>1636.203997</td>\n",
       "      <td>2125.216973</td>\n",
       "      <td>199896.437024</td>\n",
       "    </tr>\n",
       "    <tr>\n",
       "      <th>1</th>\n",
       "      <td>2</td>\n",
       "      <td>199896.437024</td>\n",
       "      <td>489.012976</td>\n",
       "      <td>5000.0</td>\n",
       "      <td>1592.475754</td>\n",
       "      <td>2081.488730</td>\n",
       "      <td>194407.424048</td>\n",
       "    </tr>\n",
       "    <tr>\n",
       "      <th>2</th>\n",
       "      <td>3</td>\n",
       "      <td>194407.424048</td>\n",
       "      <td>489.012976</td>\n",
       "      <td>5000.0</td>\n",
       "      <td>1548.747510</td>\n",
       "      <td>2037.760486</td>\n",
       "      <td>188918.411071</td>\n",
       "    </tr>\n",
       "    <tr>\n",
       "      <th>3</th>\n",
       "      <td>4</td>\n",
       "      <td>188918.411071</td>\n",
       "      <td>489.012976</td>\n",
       "      <td>5000.0</td>\n",
       "      <td>1505.019267</td>\n",
       "      <td>1994.032243</td>\n",
       "      <td>183429.398095</td>\n",
       "    </tr>\n",
       "    <tr>\n",
       "      <th>4</th>\n",
       "      <td>5</td>\n",
       "      <td>183429.398095</td>\n",
       "      <td>489.012976</td>\n",
       "      <td>5000.0</td>\n",
       "      <td>1461.291023</td>\n",
       "      <td>1950.303999</td>\n",
       "      <td>177940.385119</td>\n",
       "    </tr>\n",
       "  </tbody>\n",
       "</table>\n",
       "</div>"
      ],
      "text/plain": [
       "   Parcela  Saldo Devedor Inicial  Amortização  Amortização Extra  \\\n",
       "0        1          205385.450000   489.012976             5000.0   \n",
       "1        2          199896.437024   489.012976             5000.0   \n",
       "2        3          194407.424048   489.012976             5000.0   \n",
       "3        4          188918.411071   489.012976             5000.0   \n",
       "4        5          183429.398095   489.012976             5000.0   \n",
       "\n",
       "         Juros  Valor da Parcela  Saldo Devedor Final  \n",
       "0  1636.203997       2125.216973        199896.437024  \n",
       "1  1592.475754       2081.488730        194407.424048  \n",
       "2  1548.747510       2037.760486        188918.411071  \n",
       "3  1505.019267       1994.032243        183429.398095  \n",
       "4  1461.291023       1950.303999        177940.385119  "
      ]
     },
     "execution_count": null,
     "metadata": {},
     "output_type": "execute_result"
    }
   ],
   "source": [
    "tabela_amortizacao_extra = sac.amortizacao_extra_mensal(valor_amortizado_extra_mensal=5000)\n",
    "tabela_amortizacao_extra.head()"
   ]
  },
  {
   "cell_type": "code",
   "execution_count": null,
   "metadata": {},
   "outputs": [
    {
     "data": {
      "text/plain": [
       "(420, 37)"
      ]
     },
     "execution_count": null,
     "metadata": {},
     "output_type": "execute_result"
    }
   ],
   "source": [
    "len(tabela.index), len(tabela_amortizacao_extra)"
   ]
  },
  {
   "cell_type": "code",
   "execution_count": null,
   "metadata": {},
   "outputs": [
    {
     "data": {
      "text/plain": [
       "(549806.39, 236801.98771555116)"
      ]
     },
     "execution_count": null,
     "metadata": {},
     "output_type": "execute_result"
    }
   ],
   "source": [
    "tabela['Valor da Parcela'].sum(), tabela_amortizacao_extra['Saldo Devedor Inicial'].loc[0] + tabela_amortizacao_extra['Juros'].sum()"
   ]
  },
  {
   "cell_type": "code",
   "execution_count": null,
   "metadata": {},
   "outputs": [
    {
     "data": {
      "text/plain": [
       "(344420.94, 31416.53771555116)"
      ]
     },
     "execution_count": null,
     "metadata": {},
     "output_type": "execute_result"
    }
   ],
   "source": [
    "tabela['Juros'].sum(), tabela_amortizacao_extra['Juros'].sum()"
   ]
  },
  {
   "cell_type": "code",
   "execution_count": null,
   "metadata": {},
   "outputs": [],
   "source": [
    "assert SACCalculator(200000, 360, 0.01).tabela().shape[0] == 360"
   ]
  },
  {
   "cell_type": "code",
   "execution_count": null,
   "metadata": {},
   "outputs": [],
   "source": [
    "assert SACCalculator(200000, 12, 0.01).tabela().shape[0] == 12"
   ]
  },
  {
   "cell_type": "code",
   "execution_count": null,
   "metadata": {},
   "outputs": [],
   "source": [
    "assert SACCalculator(200000, 24, 0.01).tabela().shape[0] == 24"
   ]
  },
  {
   "cell_type": "code",
   "execution_count": null,
   "metadata": {},
   "outputs": [],
   "source": [
    "assert SACCalculator(200000, 5, 0.01).tabela().shape[0] == 5"
   ]
  },
  {
   "cell_type": "code",
   "execution_count": null,
   "metadata": {},
   "outputs": [],
   "source": [
    "#| hide\n",
    "import nbdev; nbdev.nbdev_export()"
   ]
  },
  {
   "cell_type": "code",
   "execution_count": null,
   "metadata": {},
   "outputs": [],
   "source": []
  }
 ],
 "metadata": {
  "kernelspec": {
   "display_name": "python3",
   "language": "python",
   "name": "python3"
  }
 },
 "nbformat": 4,
 "nbformat_minor": 4
}
