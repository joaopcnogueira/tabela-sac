{
 "cells": [
  {
   "attachments": {},
   "cell_type": "markdown",
   "metadata": {},
   "source": [
    "# O que é a Tabela SAC? "
   ]
  },
  {
   "attachments": {},
   "cell_type": "markdown",
   "metadata": {},
   "source": [
    "Tabela SAC é um tipo de financiando com Sistema de Amortização Constante. A cada parcela paga, um valor constante é amortizado do saldo devedor.\n",
    "\n",
    "Vamos simular um financiamento de uma casa no valor de R$ 200 mil em 360 meses (30 anos), com uma taxa de juros mensal de 1% ao mês.\n",
    "\n",
    "Antes de tudo, precisamos saber o valor da amortização, ou seja, quanto irá diminuir o saldo devedor a cada parcela paga:\n",
    "\n",
    "> R$ 200.000,00 / 360 meses = R$ 555,56\n",
    "\n",
    "Independente do valor que você pagar na parcela, apenas R$ 555,56 será de fato descontado do saldo devedor.\n",
    "\n",
    "Agora para descobrir o valor da primeira parcela, temos que aplicar os juros sobre o saldo devedor:\n",
    "\n",
    "> R$ 200.000,00 * 1% = R$ 2.000,00\n",
    "\n",
    "Com o valor da amortização e o valor pago em juros em mãos, o valor da primeira parcela é a soma desses dois valores:\n",
    "\n",
    "> R$ 555,56 + R$ 2.000,00 = R$ 2.555,56\n",
    "\n",
    "O valor da primeira parcela do financiamento é de R$ 2.555,56.\n",
    "\n",
    "Após pagar a primeira parcela, como a amortização foi de R$ 555,56 (isso mesmo, R$ 2 mil foi só de juros), você ainda estará devendo R$ 199.444,44 (saldo devedor após a primeira parcela).\n",
    "\n",
    "Em 12 meses, você pagará R$ 30.300,05 em parcelas e irá abater apenas R$ 6.666,72 do saldo devedor.\n",
    "\n",
    "Para calcular a tabela SAC completa, podemos utilizar o pacote `tabela-sac`"
   ]
  },
  {
   "cell_type": "code",
   "execution_count": null,
   "metadata": {},
   "outputs": [],
   "source": [
    "from tabela_sac.core import SACCalculator"
   ]
  },
  {
   "cell_type": "code",
   "execution_count": null,
   "metadata": {},
   "outputs": [],
   "source": [
    "sac = SACCalculator(\n",
    "    valor_financiado=200000,\n",
    "    prazo=360,\n",
    "    taxa_juros=0.01\n",
    ")"
   ]
  },
  {
   "cell_type": "code",
   "execution_count": null,
   "metadata": {},
   "outputs": [],
   "source": [
    "tabela = sac.tabela()"
   ]
  },
  {
   "cell_type": "code",
   "execution_count": null,
   "metadata": {},
   "outputs": [
    {
     "data": {
      "text/html": [
       "<div>\n",
       "<style scoped>\n",
       "    .dataframe tbody tr th:only-of-type {\n",
       "        vertical-align: middle;\n",
       "    }\n",
       "\n",
       "    .dataframe tbody tr th {\n",
       "        vertical-align: top;\n",
       "    }\n",
       "\n",
       "    .dataframe thead th {\n",
       "        text-align: right;\n",
       "    }\n",
       "</style>\n",
       "<table border=\"1\" class=\"dataframe\">\n",
       "  <thead>\n",
       "    <tr style=\"text-align: right;\">\n",
       "      <th></th>\n",
       "      <th>Parcela</th>\n",
       "      <th>Juros</th>\n",
       "      <th>Amortização</th>\n",
       "      <th>Valor da Parcela</th>\n",
       "      <th>Saldo Devedor</th>\n",
       "    </tr>\n",
       "  </thead>\n",
       "  <tbody>\n",
       "    <tr>\n",
       "      <th>0</th>\n",
       "      <td>1</td>\n",
       "      <td>2000.00</td>\n",
       "      <td>555.56</td>\n",
       "      <td>2555.56</td>\n",
       "      <td>199444.44</td>\n",
       "    </tr>\n",
       "    <tr>\n",
       "      <th>1</th>\n",
       "      <td>2</td>\n",
       "      <td>1994.44</td>\n",
       "      <td>555.56</td>\n",
       "      <td>2550.00</td>\n",
       "      <td>198888.89</td>\n",
       "    </tr>\n",
       "    <tr>\n",
       "      <th>2</th>\n",
       "      <td>3</td>\n",
       "      <td>1988.89</td>\n",
       "      <td>555.56</td>\n",
       "      <td>2544.44</td>\n",
       "      <td>198333.33</td>\n",
       "    </tr>\n",
       "    <tr>\n",
       "      <th>3</th>\n",
       "      <td>4</td>\n",
       "      <td>1983.33</td>\n",
       "      <td>555.56</td>\n",
       "      <td>2538.89</td>\n",
       "      <td>197777.78</td>\n",
       "    </tr>\n",
       "    <tr>\n",
       "      <th>4</th>\n",
       "      <td>5</td>\n",
       "      <td>1977.78</td>\n",
       "      <td>555.56</td>\n",
       "      <td>2533.33</td>\n",
       "      <td>197222.22</td>\n",
       "    </tr>\n",
       "    <tr>\n",
       "      <th>5</th>\n",
       "      <td>6</td>\n",
       "      <td>1972.22</td>\n",
       "      <td>555.56</td>\n",
       "      <td>2527.78</td>\n",
       "      <td>196666.67</td>\n",
       "    </tr>\n",
       "    <tr>\n",
       "      <th>6</th>\n",
       "      <td>7</td>\n",
       "      <td>1966.67</td>\n",
       "      <td>555.56</td>\n",
       "      <td>2522.22</td>\n",
       "      <td>196111.11</td>\n",
       "    </tr>\n",
       "    <tr>\n",
       "      <th>7</th>\n",
       "      <td>8</td>\n",
       "      <td>1961.11</td>\n",
       "      <td>555.56</td>\n",
       "      <td>2516.67</td>\n",
       "      <td>195555.56</td>\n",
       "    </tr>\n",
       "    <tr>\n",
       "      <th>8</th>\n",
       "      <td>9</td>\n",
       "      <td>1955.56</td>\n",
       "      <td>555.56</td>\n",
       "      <td>2511.11</td>\n",
       "      <td>195000.00</td>\n",
       "    </tr>\n",
       "    <tr>\n",
       "      <th>9</th>\n",
       "      <td>10</td>\n",
       "      <td>1950.00</td>\n",
       "      <td>555.56</td>\n",
       "      <td>2505.56</td>\n",
       "      <td>194444.44</td>\n",
       "    </tr>\n",
       "    <tr>\n",
       "      <th>10</th>\n",
       "      <td>11</td>\n",
       "      <td>1944.44</td>\n",
       "      <td>555.56</td>\n",
       "      <td>2500.00</td>\n",
       "      <td>193888.89</td>\n",
       "    </tr>\n",
       "    <tr>\n",
       "      <th>11</th>\n",
       "      <td>12</td>\n",
       "      <td>1938.89</td>\n",
       "      <td>555.56</td>\n",
       "      <td>2494.44</td>\n",
       "      <td>193333.33</td>\n",
       "    </tr>\n",
       "  </tbody>\n",
       "</table>\n",
       "</div>"
      ],
      "text/plain": [
       "    Parcela    Juros  Amortização  Valor da Parcela  Saldo Devedor\n",
       "0         1  2000.00       555.56           2555.56      199444.44\n",
       "1         2  1994.44       555.56           2550.00      198888.89\n",
       "2         3  1988.89       555.56           2544.44      198333.33\n",
       "3         4  1983.33       555.56           2538.89      197777.78\n",
       "4         5  1977.78       555.56           2533.33      197222.22\n",
       "5         6  1972.22       555.56           2527.78      196666.67\n",
       "6         7  1966.67       555.56           2522.22      196111.11\n",
       "7         8  1961.11       555.56           2516.67      195555.56\n",
       "8         9  1955.56       555.56           2511.11      195000.00\n",
       "9        10  1950.00       555.56           2505.56      194444.44\n",
       "10       11  1944.44       555.56           2500.00      193888.89\n",
       "11       12  1938.89       555.56           2494.44      193333.33"
      ]
     },
     "execution_count": null,
     "metadata": {},
     "output_type": "execute_result"
    }
   ],
   "source": [
    "tabela.head(12)"
   ]
  },
  {
   "attachments": {},
   "cell_type": "markdown",
   "metadata": {},
   "source": [
    "Só no primeiro ano, teremos pago R$ 30.300,00:"
   ]
  },
  {
   "cell_type": "code",
   "execution_count": null,
   "metadata": {},
   "outputs": [
    {
     "data": {
      "text/plain": [
       "30300.0"
      ]
     },
     "execution_count": null,
     "metadata": {},
     "output_type": "execute_result"
    }
   ],
   "source": [
    "tabela.head(12)['Valor da Parcela'].sum().round(2)"
   ]
  },
  {
   "attachments": {},
   "cell_type": "markdown",
   "metadata": {},
   "source": [
    "Onde desse valor, 78% são juros (R$ 23.633,33) e apenas 22% (R$ 6.666,72) serão de fato utilizados para abater o saldo devedor"
   ]
  },
  {
   "cell_type": "code",
   "execution_count": null,
   "metadata": {},
   "outputs": [
    {
     "data": {
      "text/plain": [
       "23633.33"
      ]
     },
     "execution_count": null,
     "metadata": {},
     "output_type": "execute_result"
    }
   ],
   "source": [
    "tabela.head(12)['Juros'].sum().round(2)"
   ]
  },
  {
   "cell_type": "code",
   "execution_count": null,
   "metadata": {},
   "outputs": [
    {
     "data": {
      "text/plain": [
       "6666.72"
      ]
     },
     "execution_count": null,
     "metadata": {},
     "output_type": "execute_result"
    }
   ],
   "source": [
    "tabela.head(12)['Amortização'].sum().round(2)"
   ]
  },
  {
   "attachments": {},
   "cell_type": "markdown",
   "metadata": {},
   "source": [
    "Assim, uma estratégia possível para pagar menos juros e reduzir o tempo de financiamento, é pagar sempre as primeiras e últimas parcelas, pois nas últimas parcelas o valor amortizador é maior que os juros incididos, dessa forma reduzindo bastante o valor do saldo devedor que fará incidir menos juros."
   ]
  },
  {
   "cell_type": "code",
   "execution_count": null,
   "metadata": {},
   "outputs": [],
   "source": []
  }
 ],
 "metadata": {
  "kernelspec": {
   "display_name": "Python 3",
   "language": "python",
   "name": "python3"
  }
 },
 "nbformat": 4,
 "nbformat_minor": 2
}
