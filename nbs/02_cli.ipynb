{
 "cells": [
  {
   "cell_type": "code",
   "execution_count": null,
   "metadata": {},
   "outputs": [],
   "source": [
    "#| default_exp cli"
   ]
  },
  {
   "attachments": {},
   "cell_type": "markdown",
   "metadata": {},
   "source": [
    "# CLI\n",
    "\n",
    "> cli commands"
   ]
  },
  {
   "cell_type": "code",
   "execution_count": null,
   "metadata": {},
   "outputs": [],
   "source": [
    "#| export\n",
    "import os\n",
    "from fastcore.script import call_parse\n",
    "from tabela_sac.core import SACCalculator"
   ]
  },
  {
   "cell_type": "code",
   "execution_count": null,
   "metadata": {},
   "outputs": [],
   "source": [
    "#| export\n",
    "@call_parse\n",
    "def gerar_tabela_sac(valor_financiado:float, # Valor financiado\n",
    "                     prazo:int,              # Prazo em meses\n",
    "                     taxa_juros:float,       # Taxa de juros ao mês (ex: 0.01 para uma taxa de 1% ao mês)\n",
    "                     path:str='.'\n",
    "):\n",
    "    \"Gera a tabela SAC para o valor financiado, prazo e taxa de juros informados.\"\n",
    "\n",
    "    sac = SACCalculator(valor_financiado, prazo, taxa_juros)\n",
    "    tabela = sac.tabela()\n",
    "\n",
    "    tabela.to_csv(f'{path}/tabela_sac.csv', sep=';', index=False)\n",
    "\n",
    "    return True"
   ]
  },
  {
   "attachments": {},
   "cell_type": "markdown",
   "metadata": {},
   "source": [
    "#### Exemplo de como utilizar a cli\n",
    "\n",
    "```sh\n",
    "$ gerar_tabela_sac 100000 360 0.01\n",
    "```\n",
    "\n",
    "O comando  `gerar_tabela_sac` está conectado a função `gerar_tabela_sac` através da entrada `console_scripts` no arquivo `settings.ini`, localizado na raiz do projeto:\n",
    "\n",
    "```sh\n",
    "gerar_tabela_sac=tabela_sac.cli:gerar_tabela_sac\n",
    "```"
   ]
  },
  {
   "cell_type": "code",
   "execution_count": null,
   "metadata": {},
   "outputs": [],
   "source": [
    "#|export\n",
    "@call_parse\n",
    "def install_package():\n",
    "    \"Install the package\"\n",
    "    os.system(\"pip install -e '.[dev]'\")"
   ]
  },
  {
   "cell_type": "code",
   "execution_count": null,
   "metadata": {},
   "outputs": [],
   "source": []
  }
 ],
 "metadata": {
  "kernelspec": {
   "display_name": "python3",
   "language": "python",
   "name": "python3"
  }
 },
 "nbformat": 4,
 "nbformat_minor": 2
}
