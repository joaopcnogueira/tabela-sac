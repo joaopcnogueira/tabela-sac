{
 "cells": [
  {
   "cell_type": "code",
   "execution_count": null,
   "metadata": {},
   "outputs": [],
   "source": [
    "#| hide\n",
    "from tabela_sac.core import *"
   ]
  },
  {
   "cell_type": "markdown",
   "metadata": {},
   "source": [
    "# tabela-sac\n",
    "\n",
    "> Forma Simples de Gerar uma Tabela SAC"
   ]
  },
  {
   "cell_type": "markdown",
   "metadata": {},
   "source": [
    "## Install"
   ]
  },
  {
   "cell_type": "markdown",
   "metadata": {},
   "source": [
    "```sh\n",
    "pip install tabela_sac\n",
    "```"
   ]
  },
  {
   "cell_type": "markdown",
   "metadata": {},
   "source": [
    "## How to use"
   ]
  },
  {
   "cell_type": "code",
   "execution_count": null,
   "metadata": {},
   "outputs": [],
   "source": [
    "from tabela_sac.core import SACCalculator"
   ]
  },
  {
   "cell_type": "code",
   "execution_count": null,
   "metadata": {},
   "outputs": [],
   "source": [
    "sac = SACCalculator(valor_financiado=200000, \n",
    "                    prazo=360, \n",
    "                    taxa_juros=0.01)"
   ]
  },
  {
   "cell_type": "code",
   "execution_count": null,
   "metadata": {},
   "outputs": [],
   "source": [
    "tabela = sac.tabela()"
   ]
  },
  {
   "cell_type": "code",
   "execution_count": null,
   "metadata": {},
   "outputs": [
    {
     "data": {
      "text/html": [
       "<div>\n",
       "<style scoped>\n",
       "    .dataframe tbody tr th:only-of-type {\n",
       "        vertical-align: middle;\n",
       "    }\n",
       "\n",
       "    .dataframe tbody tr th {\n",
       "        vertical-align: top;\n",
       "    }\n",
       "\n",
       "    .dataframe thead th {\n",
       "        text-align: right;\n",
       "    }\n",
       "</style>\n",
       "<table border=\"1\" class=\"dataframe\">\n",
       "  <thead>\n",
       "    <tr style=\"text-align: right;\">\n",
       "      <th></th>\n",
       "      <th>Parcela</th>\n",
       "      <th>Juros</th>\n",
       "      <th>Amortização</th>\n",
       "      <th>Valor da Parcela</th>\n",
       "      <th>Saldo Devedor</th>\n",
       "    </tr>\n",
       "  </thead>\n",
       "  <tbody>\n",
       "    <tr>\n",
       "      <th>0</th>\n",
       "      <td>1</td>\n",
       "      <td>2000.00</td>\n",
       "      <td>555.56</td>\n",
       "      <td>2555.56</td>\n",
       "      <td>199444.44</td>\n",
       "    </tr>\n",
       "    <tr>\n",
       "      <th>1</th>\n",
       "      <td>2</td>\n",
       "      <td>1994.44</td>\n",
       "      <td>555.56</td>\n",
       "      <td>2550.00</td>\n",
       "      <td>198888.89</td>\n",
       "    </tr>\n",
       "    <tr>\n",
       "      <th>2</th>\n",
       "      <td>3</td>\n",
       "      <td>1988.89</td>\n",
       "      <td>555.56</td>\n",
       "      <td>2544.44</td>\n",
       "      <td>198333.33</td>\n",
       "    </tr>\n",
       "    <tr>\n",
       "      <th>3</th>\n",
       "      <td>4</td>\n",
       "      <td>1983.33</td>\n",
       "      <td>555.56</td>\n",
       "      <td>2538.89</td>\n",
       "      <td>197777.78</td>\n",
       "    </tr>\n",
       "    <tr>\n",
       "      <th>4</th>\n",
       "      <td>5</td>\n",
       "      <td>1977.78</td>\n",
       "      <td>555.56</td>\n",
       "      <td>2533.33</td>\n",
       "      <td>197222.22</td>\n",
       "    </tr>\n",
       "    <tr>\n",
       "      <th>...</th>\n",
       "      <td>...</td>\n",
       "      <td>...</td>\n",
       "      <td>...</td>\n",
       "      <td>...</td>\n",
       "      <td>...</td>\n",
       "    </tr>\n",
       "    <tr>\n",
       "      <th>355</th>\n",
       "      <td>356</td>\n",
       "      <td>27.78</td>\n",
       "      <td>555.56</td>\n",
       "      <td>583.33</td>\n",
       "      <td>2222.22</td>\n",
       "    </tr>\n",
       "    <tr>\n",
       "      <th>356</th>\n",
       "      <td>357</td>\n",
       "      <td>22.22</td>\n",
       "      <td>555.56</td>\n",
       "      <td>577.78</td>\n",
       "      <td>1666.67</td>\n",
       "    </tr>\n",
       "    <tr>\n",
       "      <th>357</th>\n",
       "      <td>358</td>\n",
       "      <td>16.67</td>\n",
       "      <td>555.56</td>\n",
       "      <td>572.22</td>\n",
       "      <td>1111.11</td>\n",
       "    </tr>\n",
       "    <tr>\n",
       "      <th>358</th>\n",
       "      <td>359</td>\n",
       "      <td>11.11</td>\n",
       "      <td>555.56</td>\n",
       "      <td>566.67</td>\n",
       "      <td>555.56</td>\n",
       "    </tr>\n",
       "    <tr>\n",
       "      <th>359</th>\n",
       "      <td>360</td>\n",
       "      <td>5.56</td>\n",
       "      <td>555.56</td>\n",
       "      <td>561.11</td>\n",
       "      <td>0.00</td>\n",
       "    </tr>\n",
       "  </tbody>\n",
       "</table>\n",
       "<p>360 rows × 5 columns</p>\n",
       "</div>"
      ],
      "text/plain": [
       "     Parcela    Juros  Amortização  Valor da Parcela  Saldo Devedor\n",
       "0          1  2000.00       555.56           2555.56      199444.44\n",
       "1          2  1994.44       555.56           2550.00      198888.89\n",
       "2          3  1988.89       555.56           2544.44      198333.33\n",
       "3          4  1983.33       555.56           2538.89      197777.78\n",
       "4          5  1977.78       555.56           2533.33      197222.22\n",
       "..       ...      ...          ...               ...            ...\n",
       "355      356    27.78       555.56            583.33        2222.22\n",
       "356      357    22.22       555.56            577.78        1666.67\n",
       "357      358    16.67       555.56            572.22        1111.11\n",
       "358      359    11.11       555.56            566.67         555.56\n",
       "359      360     5.56       555.56            561.11           0.00\n",
       "\n",
       "[360 rows x 5 columns]"
      ]
     },
     "execution_count": null,
     "metadata": {},
     "output_type": "execute_result"
    }
   ],
   "source": [
    "tabela"
   ]
  },
  {
   "attachments": {},
   "cell_type": "markdown",
   "metadata": {},
   "source": [
    "# CLI Interface\n",
    "\n",
    "The nbdev cli system uses `fastcore.script` to build command line interfaces. For further information, go to [https://fastcore.fast.ai/script.html](https://fastcore.fast.ai/script.html)"
   ]
  },
  {
   "attachments": {},
   "cell_type": "markdown",
   "metadata": {},
   "source": [
    "```sh\n",
    "$ gerar_tabela_sac --help\n",
    "\n",
    "usage: gerar_tabela_sac [-h] [--path PATH] valor_financiado prazo taxa_juros\n",
    "\n",
    "Gera a tabela SAC para o valor financiado, prazo e taxa de juros informados.\n",
    "\n",
    "positional arguments:\n",
    "  valor_financiado  Valor financiado\n",
    "  prazo             Prazo em meses\n",
    "  taxa_juros        Taxa de juros ao mês (ex: 0.01 para uma taxa de 1% ao mês)\n",
    "\n",
    "optional arguments:\n",
    "  -h, --help        show this help message and exit\n",
    "  --path PATH       (default: .)\n",
    "```"
   ]
  },
  {
   "attachments": {},
   "cell_type": "markdown",
   "metadata": {},
   "source": [
    "Usage:"
   ]
  },
  {
   "attachments": {},
   "cell_type": "markdown",
   "metadata": {},
   "source": [
    "```sh\n",
    "$ gerar_tabela_sac 100000 360 0.01\n",
    "```"
   ]
  },
  {
   "cell_type": "code",
   "execution_count": null,
   "metadata": {},
   "outputs": [],
   "source": []
  }
 ],
 "metadata": {
  "kernelspec": {
   "display_name": "python3",
   "language": "python",
   "name": "python3"
  }
 },
 "nbformat": 4,
 "nbformat_minor": 4
}
